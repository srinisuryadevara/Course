{
  "cells": [
    {
      "cell_type": "markdown",
      "metadata": {
        "id": "view-in-github",
        "colab_type": "text"
      },
      "source": [
        "<a href=\"https://colab.research.google.com/github/srinisuryadevara/Course/blob/master/FoodRecSys_Train_Test_Split_Template.ipynb\" target=\"_parent\"><img src=\"https://colab.research.google.com/assets/colab-badge.svg\" alt=\"Open In Colab\"/></a>"
      ]
    },
    {
      "cell_type": "markdown",
      "metadata": {
        "id": "htey1FpQcn3X"
      },
      "source": [
        "## Setup"
      ]
    },
    {
      "cell_type": "code",
      "execution_count": null,
      "metadata": {
        "colab": {
          "base_uri": "https://localhost:8080/"
        },
        "outputId": "3c052f4c-60a3-4f6d-ab01-975377008339",
        "id": "NRiDLBE1l-Dw"
      },
      "outputs": [
        {
          "output_type": "stream",
          "name": "stdout",
          "text": [
            "Drive already mounted at /content/drive; to attempt to forcibly remount, call drive.mount(\"/content/drive\", force_remount=True).\n"
          ]
        }
      ],
      "source": [
        "import os\n",
        "# give googe drive the required permission\n",
        "from google.colab import drive\n",
        "drive.mount('/content/drive')"
      ]
    },
    {
      "cell_type": "code",
      "execution_count": null,
      "metadata": {
        "colab": {
          "base_uri": "https://localhost:8080/",
          "height": 35
        },
        "outputId": "88b1f6d9-c6b5-4961-c1a6-1c200c5439ca",
        "id": "BwzVR59Ll-Dw"
      },
      "outputs": [
        {
          "output_type": "execute_result",
          "data": {
            "text/plain": [
              "'/content/drive/.shortcut-targets-by-id/1sSKpoSGnu5kt4yDE4V77EZp7JWN-SUmH/food_recsys_project/Code Files'"
            ],
            "application/vnd.google.colaboratory.intrinsic+json": {
              "type": "string"
            }
          },
          "metadata": {},
          "execution_count": 7
        }
      ],
      "source": [
        "# Create a folder in your drive and add the name of that folder here.\n",
        "# For example, for the code below to run correctly, you need to have a folder named FoodRecSys in 'My Drive'.\n",
        "# The said folder will be your home directory for the rest of the project.\n",
        "# You will be able to save and read data from the folder.\n",
        "\n",
        "os.chdir(\"/content/drive/MyDrive/FoodRecSys/\")\n",
        "os.getcwd()"
      ]
    },
    {
      "cell_type": "code",
      "execution_count": null,
      "metadata": {
        "colab": {
          "base_uri": "https://localhost:8080/",
          "height": 36
        },
        "id": "BpUqlBP89U8I",
        "outputId": "800de631-5d20-41ec-98b2-14e3b1a75391"
      },
      "outputs": [
        {
          "output_type": "execute_result",
          "data": {
            "text/plain": [
              "'/content/drive/.shortcut-targets-by-id/1sSKpoSGnu5kt4yDE4V77EZp7JWN-SUmH/food_recsys_project/Code Files'"
            ],
            "application/vnd.google.colaboratory.intrinsic+json": {
              "type": "string"
            }
          },
          "metadata": {},
          "execution_count": 3
        }
      ],
      "source": [
        "os.chdir(\"/content/drive/MyDrive/food_recsys_project/Code Files/\")\n",
        "os.getcwd()"
      ]
    },
    {
      "cell_type": "code",
      "execution_count": null,
      "metadata": {
        "colab": {
          "base_uri": "https://localhost:8080/"
        },
        "id": "zFl1W65u9U2q",
        "outputId": "139e5583-7978-492b-a68c-3c1f4bffbbaa"
      },
      "outputs": [
        {
          "output_type": "stream",
          "name": "stdout",
          "text": [
            "Looking in indexes: https://pypi.org/simple, https://us-python.pkg.dev/colab-wheels/public/simple/\n",
            "Collecting pyspark==3.1.2\n",
            "  Downloading pyspark-3.1.2.tar.gz (212.4 MB)\n",
            "\u001b[K     |████████████████████████████████| 212.4 MB 72 kB/s \n",
            "\u001b[?25hCollecting py4j==0.10.9\n",
            "  Downloading py4j-0.10.9-py2.py3-none-any.whl (198 kB)\n",
            "\u001b[K     |████████████████████████████████| 198 kB 13.6 MB/s \n",
            "\u001b[?25hBuilding wheels for collected packages: pyspark\n",
            "  Building wheel for pyspark (setup.py) ... \u001b[?25l\u001b[?25hdone\n",
            "  Created wheel for pyspark: filename=pyspark-3.1.2-py2.py3-none-any.whl size=212880769 sha256=072c650ae50cde8052dcd6ed947132078af197bcd430b2eafb74174aff75ecc1\n",
            "  Stored in directory: /root/.cache/pip/wheels/a5/0a/c1/9561f6fecb759579a7d863dcd846daaa95f598744e71b02c77\n",
            "Successfully built pyspark\n",
            "Installing collected packages: py4j, pyspark\n",
            "Successfully installed py4j-0.10.9 pyspark-3.1.2\n"
          ]
        }
      ],
      "source": [
        "try:\n",
        "  import pyspark\n",
        "except:\n",
        "  !pip install pyspark==3.1.2\n",
        "  import pyspark"
      ]
    },
    {
      "cell_type": "code",
      "source": [
        "from pyspark.sql import SparkSession\n",
        "from pyspark.context import SparkContext"
      ],
      "metadata": {
        "id": "oBvA-zmx2_vE"
      },
      "execution_count": null,
      "outputs": []
    },
    {
      "cell_type": "code",
      "execution_count": null,
      "metadata": {
        "id": "H07v5FBc9fW9"
      },
      "outputs": [],
      "source": [
        "spark = SparkSession.builder.master(\"local\").config('spark.ui.port', '4050').getOrCreate()"
      ]
    },
    {
      "cell_type": "code",
      "execution_count": null,
      "metadata": {
        "colab": {
          "base_uri": "https://localhost:8080/",
          "height": 219
        },
        "id": "eqeHc0B_9nOG",
        "outputId": "95ec0805-a373-404b-94f4-e30daeaf7bf1"
      },
      "outputs": [
        {
          "output_type": "execute_result",
          "data": {
            "text/plain": [
              "<pyspark.sql.session.SparkSession at 0x7f6a5f3b0950>"
            ],
            "text/html": [
              "\n",
              "            <div>\n",
              "                <p><b>SparkSession - in-memory</b></p>\n",
              "                \n",
              "        <div>\n",
              "            <p><b>SparkContext</b></p>\n",
              "\n",
              "            <p><a href=\"http://73bec4bb2bd4:4050\">Spark UI</a></p>\n",
              "\n",
              "            <dl>\n",
              "              <dt>Version</dt>\n",
              "                <dd><code>v3.1.2</code></dd>\n",
              "              <dt>Master</dt>\n",
              "                <dd><code>local</code></dd>\n",
              "              <dt>AppName</dt>\n",
              "                <dd><code>pyspark-shell</code></dd>\n",
              "            </dl>\n",
              "        </div>\n",
              "        \n",
              "            </div>\n",
              "        "
            ]
          },
          "metadata": {},
          "execution_count": 7
        }
      ],
      "source": [
        "spark"
      ]
    },
    {
      "cell_type": "markdown",
      "metadata": {
        "id": "OuQIGExwctpy"
      },
      "source": [
        "## Imports"
      ]
    },
    {
      "cell_type": "code",
      "execution_count": null,
      "metadata": {
        "id": "QTo-V_Tt9eoN"
      },
      "outputs": [],
      "source": [
        "import pandas as pd\n",
        "import numpy as np\n",
        "\n",
        "from pyspark.sql import functions as F\n",
        "# Import for typecasting columns\n",
        "from pyspark.sql.types import IntegerType,BooleanType,DateType,FloatType,StringType, ArrayType"
      ]
    },
    {
      "cell_type": "markdown",
      "metadata": {
        "id": "lJbriFKH9AwM"
      },
      "source": [
        "## Read the data"
      ]
    },
    {
      "cell_type": "code",
      "execution_count": null,
      "metadata": {
        "id": "6fBd-ymZ85_e"
      },
      "outputs": [],
      "source": [
        "raw_ratings_df = (spark.read.csv(\"raw_ratings_small.csv\", # modify the path to read the data\n",
        "                                 header=True,\n",
        "                                 inferSchema= True))"
      ]
    },
    {
      "cell_type": "code",
      "execution_count": null,
      "metadata": {
        "id": "dXuL1Sq09Akr"
      },
      "outputs": [],
      "source": [
        "raw_recipes_df = spark.read.csv(\"raw_recipes_small.csv\", # modify the path to read the data\n",
        "                                header=True,\n",
        "                                inferSchema=True)"
      ]
    },
    {
      "cell_type": "code",
      "source": [
        "assert (raw_recipes_df.count(), len(raw_recipes_df.columns)) == (20340, 13)\n",
        "assert (raw_ratings_df.count(), len(raw_ratings_df.columns)) == (93357, 5)"
      ],
      "metadata": {
        "id": "Mkaj1BabtAg1"
      },
      "execution_count": null,
      "outputs": []
    },
    {
      "cell_type": "markdown",
      "metadata": {
        "id": "lILWFlP-9tKr"
      },
      "source": [
        "#### Decide a split date based on the ratings dataframe."
      ]
    },
    {
      "cell_type": "code",
      "execution_count": null,
      "metadata": {
        "id": "COU5Qg1A-CT7"
      },
      "outputs": [],
      "source": [
        "# Find the number of data points in the interaction dataset.\n",
        "# You can use the count() method.\n",
        "# The output must be an integer.\n",
        "\n",
        "num_review_int = raw_ratings_df.count()"
      ]
    },
    {
      "cell_type": "markdown",
      "metadata": {
        "id": "Ea0ZeHC0JXjy"
      },
      "source": [
        "#### Task 01 - Train Test Split\n",
        "\n",
        "Divide the data into train and test based on the 80 - 20 split using the approach discussed. You will have to save the data in a parquet file."
      ]
    },
    {
      "cell_type": "code",
      "execution_count": null,
      "metadata": {
        "id": "gz8RpPOo-CSO"
      },
      "outputs": [],
      "source": [
        "test_num_reviews_int = round(num_review_int *0.2)"
      ]
    },
    {
      "cell_type": "code",
      "execution_count": null,
      "metadata": {
        "id": "1uBP9W-t-CPm"
      },
      "outputs": [],
      "source": [
        "# Sort the interactions dataset in descending order of review date.\n",
        "# Extract ```test_num_reviews_int``` most recent reviews.\n",
        "\n",
        "temp_ratings_df = (raw_ratings_df.sort(\"review_date\", ascending=False)\n",
        "                                 .limit(test_num_reviews_int)\n",
        "                  )"
      ]
    },
    {
      "cell_type": "code",
      "source": [
        "assert temp_ratings_df.count()  == 18671\n",
        "assert raw_recipes_df.collect()[11][4] <= raw_recipes_df.collect()[10][4]"
      ],
      "metadata": {
        "id": "TxxjUoxvtJta"
      },
      "execution_count": null,
      "outputs": []
    },
    {
      "cell_type": "code",
      "execution_count": null,
      "metadata": {
        "colab": {
          "base_uri": "https://localhost:8080/",
          "height": 36
        },
        "id": "vC5khu2X-CIj",
        "outputId": "90fa66f7-5077-4315-b5a1-48ecb59a72a1"
      },
      "outputs": [
        {
          "output_type": "execute_result",
          "data": {
            "text/plain": [
              "'2011-07-17'"
            ],
            "application/vnd.google.colaboratory.intrinsic+json": {
              "type": "string"
            }
          },
          "metadata": {},
          "execution_count": 14
        }
      ],
      "source": [
        "temp_ratings_df.collect()[-1][4]"
      ]
    },
    {
      "cell_type": "markdown",
      "metadata": {
        "id": "ZTKyBLjFJTmr"
      },
      "source": [
        "Split the data into two parts before and after 2011-07-17.\n",
        "\n",
        "- All reviews in the ratings data after 2011-07-17 will not exsist in the training set.\n",
        "- For all future predictions the date will be set at 2011-07-18.   "
      ]
    },
    {
      "cell_type": "code",
      "execution_count": null,
      "metadata": {
        "id": "cCuNwQMEhBPi"
      },
      "outputs": [],
      "source": [
        "# Join raw_recipes and raw_ratings\n",
        "# Use recipe_id as the key to join these dataframes\n",
        "# The resulting dataframe must have all rows from the raw_ratings dataframe.\n",
        "\n",
        "interaction_level_df = raw_ratings_df.join(\n",
        "                                           # dataframe 2,\n",
        "                                           # key to join\n",
        "                                           # how to join\n",
        "                                          )"
      ]
    },
    {
      "cell_type": "code",
      "execution_count": null,
      "metadata": {
        "id": "orclWiSCKkw7"
      },
      "outputs": [],
      "source": [
        "# Use the filter command to separate the datasets.\n",
        "# All interactions which were rated BEFORE '2011-07-17' will be train data.\n",
        "\n",
        "train_interaction_level_df  = (interaction_level_df.filter(\n",
        "                                             # add code to filter\n",
        "                                           )))"
      ]
    },
    {
      "cell_type": "code",
      "execution_count": null,
      "metadata": {
        "id": "sdyQsB2tiE04"
      },
      "outputs": [],
      "source": [
        "# Use the filter command to separate the datasets.\n",
        "# All interactions which were rated ON OR AFTER '2011-07-17' will be test data.\n",
        "\n",
        "test_interaction_level_all_recipies_df  = (interaction_level_df.filter(\n",
        "                                             # add code to filter\n",
        "                                           )))"
      ]
    },
    {
      "cell_type": "code",
      "source": [
        "assert (test_interaction_level_all_recipies_df.count(), len(test_interaction_level_all_recipies_df.columns)) == (18684, 18)\n",
        "assert (train_interaction_level_df.count(), len(train_interaction_level_df.columns)) == (74673, 18)"
      ],
      "metadata": {
        "id": "VTjbMPoCtV2u"
      },
      "execution_count": null,
      "outputs": []
    },
    {
      "cell_type": "code",
      "execution_count": null,
      "metadata": {
        "id": "hPnT-UZ5IwDa"
      },
      "outputs": [],
      "source": [
        "# create data files for modeling\n",
        "\n",
        "(train_interaction_level_df.coalesce(1)\n",
        "                           .write.mode('overwrite')\n",
        "                           .parquet('train_interaction_level_df.parquet'))  # change the file name and file path\n",
        "\n",
        "(test_interaction_level_all_recipies_df.coalesce(1)\n",
        "                                       .write.mode('overwrite')\n",
        "                                       .parquet('test_interaction_level_df.parquet'))  # change the file name and file path"
      ]
    }
  ],
  "metadata": {
    "colab": {
      "provenance": [],
      "include_colab_link": true
    },
    "kernelspec": {
      "display_name": "Python 3",
      "name": "python3"
    },
    "language_info": {
      "name": "python"
    }
  },
  "nbformat": 4,
  "nbformat_minor": 0
}